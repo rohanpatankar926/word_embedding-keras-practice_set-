{
 "cells": [
  {
   "cell_type": "code",
   "execution_count": 32,
   "id": "1ab2dc8f",
   "metadata": {},
   "outputs": [],
   "source": [
    "from numpy import array\n",
    "from keras.preprocessing.text import one_hot\n",
    "from keras.layers import Dense,Flatten\n",
    "from keras.layers.embeddings import Embedding\n",
    "from keras.preprocessing.sequence import pad_sequences\n",
    "from keras.models import Sequential"
   ]
  },
  {
   "cell_type": "code",
   "execution_count": 33,
   "id": "c799ac26",
   "metadata": {},
   "outputs": [],
   "source": [
    "data=[\"One often needs to state data in program source. \",\n",
    "      \"Python, however, needs its program lines indented just so. \",\n",
    "      \"Multi-line strings therefore often have extra spaces and newline characters you didn’t really want. \",\n",
    "      \"Many developers “fix” this by using Python list literals, but that’s tedious, verbose, and often less legible.\",\n",
    "      \"The textdata package makes it easy to have clean, \",\n",
    "      \"nicely-whitespaced data specified in your program, \",\n",
    "      \"but to get the data without extra syntax cluttering things up. \",\n",
    "      \"It’s permissive of the layouts needed to make Python code look and work \",\n",
    "      \"right, without reflecting those requirements in the resulting data\"]"
   ]
  },
  {
   "cell_type": "code",
   "execution_count": 42,
   "id": "2a69a44b",
   "metadata": {},
   "outputs": [
    {
     "data": {
      "text/plain": [
       "9"
      ]
     },
     "execution_count": 42,
     "metadata": {},
     "output_type": "execute_result"
    }
   ],
   "source": [
    "len(data)"
   ]
  },
  {
   "cell_type": "code",
   "execution_count": 41,
   "id": "dd560c49",
   "metadata": {},
   "outputs": [
    {
     "data": {
      "text/plain": [
       "9"
      ]
     },
     "execution_count": 41,
     "metadata": {},
     "output_type": "execute_result"
    }
   ],
   "source": [
    "labels=array([1,1,1,1,0,1,1,0,1])\n",
    "len(labels)"
   ]
  },
  {
   "cell_type": "code",
   "execution_count": 36,
   "id": "4df0051e",
   "metadata": {},
   "outputs": [],
   "source": [
    "vocab_size=10000"
   ]
  },
  {
   "cell_type": "code",
   "execution_count": 37,
   "id": "79d575a3",
   "metadata": {},
   "outputs": [
    {
     "name": "stdout",
     "output_type": "stream",
     "text": [
      "[[6959, 1266, 8898, 7380, 2645, 6418, 4958, 1090, 7022], [9484, 1065, 8898, 3166, 1090, 7252, 1604, 7315, 9005], [249, 3642, 7364, 8108, 1266, 7633, 9846, 4750, 8907, 5790, 1004, 157, 1583, 3843, 4123], [9652, 8769, 9826, 5645, 4961, 908, 9484, 4797, 5833, 1676, 5300, 9846, 3430, 8907, 1266, 2844, 4053], [715, 7880, 9508, 1578, 4464, 4354, 7380, 7633, 5954], [1378, 1926, 6418, 7040, 4958, 9963, 1090], [1676, 7380, 3947, 715, 6418, 9497, 9846, 2888, 9001, 2229, 7170], [9844, 942, 4117, 715, 5510, 4669, 7380, 656, 9484, 3601, 202, 8907, 269], [8402, 9497, 5803, 7134, 3929, 4958, 715, 5377, 6418]]\n"
     ]
    }
   ],
   "source": [
    "encoded_data=[one_hot(words,vocab_size)for words in data]\n",
    "print(encoded_data)"
   ]
  },
  {
   "cell_type": "code",
   "execution_count": 38,
   "id": "dff86069",
   "metadata": {},
   "outputs": [
    {
     "data": {
      "text/plain": [
       "array([[6959, 1266, 8898, 7380, 2645, 6418, 4958, 1090, 7022,    0,    0,\n",
       "           0,    0,    0,    0,    0,    0,    0],\n",
       "       [9484, 1065, 8898, 3166, 1090, 7252, 1604, 7315, 9005,    0,    0,\n",
       "           0,    0,    0,    0,    0,    0,    0],\n",
       "       [ 249, 3642, 7364, 8108, 1266, 7633, 9846, 4750, 8907, 5790, 1004,\n",
       "         157, 1583, 3843, 4123,    0,    0,    0],\n",
       "       [9652, 8769, 9826, 5645, 4961,  908, 9484, 4797, 5833, 1676, 5300,\n",
       "        9846, 3430, 8907, 1266, 2844, 4053,    0],\n",
       "       [ 715, 7880, 9508, 1578, 4464, 4354, 7380, 7633, 5954,    0,    0,\n",
       "           0,    0,    0,    0,    0,    0,    0],\n",
       "       [1378, 1926, 6418, 7040, 4958, 9963, 1090,    0,    0,    0,    0,\n",
       "           0,    0,    0,    0,    0,    0,    0],\n",
       "       [1676, 7380, 3947,  715, 6418, 9497, 9846, 2888, 9001, 2229, 7170,\n",
       "           0,    0,    0,    0,    0,    0,    0],\n",
       "       [9844,  942, 4117,  715, 5510, 4669, 7380,  656, 9484, 3601,  202,\n",
       "        8907,  269,    0,    0,    0,    0,    0],\n",
       "       [8402, 9497, 5803, 7134, 3929, 4958,  715, 5377, 6418,    0,    0,\n",
       "           0,    0,    0,    0,    0,    0,    0]])"
      ]
     },
     "execution_count": 38,
     "metadata": {},
     "output_type": "execute_result"
    }
   ],
   "source": [
    "max_len=18\n",
    "padded_docs=pad_sequences(encoded_data,maxlen=max_len,padding=\"post\")\n",
    "padded_docs"
   ]
  },
  {
   "cell_type": "code",
   "execution_count": 46,
   "id": "6e83abe1",
   "metadata": {},
   "outputs": [],
   "source": [
    "model=Sequential()\n",
    "model.add(Embedding(vocab_size,9,input_length=max_len))\n",
    "model.add(Flatten())\n",
    "model.add(Dense(1,activation=\"relu\"))"
   ]
  },
  {
   "cell_type": "code",
   "execution_count": 52,
   "id": "32950f8e",
   "metadata": {},
   "outputs": [
    {
     "name": "stdout",
     "output_type": "stream",
     "text": [
      "Model: \"sequential_4\"\n",
      "_________________________________________________________________\n",
      " Layer (type)                Output Shape              Param #   \n",
      "=================================================================\n",
      " embedding_3 (Embedding)     (None, 18, 9)             90000     \n",
      "                                                                 \n",
      " flatten_1 (Flatten)         (None, 162)               0         \n",
      "                                                                 \n",
      " dense_1 (Dense)             (None, 1)                 163       \n",
      "                                                                 \n",
      "=================================================================\n",
      "Total params: 90,163\n",
      "Trainable params: 90,163\n",
      "Non-trainable params: 0\n",
      "_________________________________________________________________\n"
     ]
    }
   ],
   "source": [
    "model.compile(optimizer=\"adam\",metrics=[\"accuracy\"],loss=\"mse\")\n",
    "model.summary()"
   ]
  },
  {
   "cell_type": "code",
   "execution_count": 53,
   "id": "a49ecf6d",
   "metadata": {},
   "outputs": [
    {
     "name": "stdout",
     "output_type": "stream",
     "text": [
      "Accuracy: 100.000000\n"
     ]
    }
   ],
   "source": [
    "model.fit(padded_docs,labels,epochs=100,verbose=0)\n",
    "loss, accuracy = model.evaluate(padded_docs, labels, verbose=0)\n",
    "print('Accuracy: %f' % (accuracy*100))"
   ]
  },
  {
   "cell_type": "markdown",
   "id": "0f00325f",
   "metadata": {},
   "source": [
    "This model gives 100% accuracy bcz negligible data was availablefor this model if the data was too large we would have\n",
    "to add more dense layers and also hyperparameters tunings on activation function in order to get good and pure data "
   ]
  }
 ],
 "metadata": {
  "kernelspec": {
   "display_name": "Python 3",
   "language": "python",
   "name": "python3"
  },
  "language_info": {
   "codemirror_mode": {
    "name": "ipython",
    "version": 3
   },
   "file_extension": ".py",
   "mimetype": "text/x-python",
   "name": "python",
   "nbconvert_exporter": "python",
   "pygments_lexer": "ipython3",
   "version": "3.8.8"
  }
 },
 "nbformat": 4,
 "nbformat_minor": 5
}
