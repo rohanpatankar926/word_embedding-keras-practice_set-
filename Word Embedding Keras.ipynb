{
 "cells": [
  {
   "cell_type": "code",
   "execution_count": 5,
   "id": "050bc18e",
   "metadata": {},
   "outputs": [],
   "source": [
    "from numpy import array\n",
    "from keras.preprocessing.text import one_hot\n",
    "from keras.preprocessing.sequence import pad_sequences\n",
    "from keras.models import Sequential\n",
    "from keras.layers import Dense,Flatten\n",
    "from keras.layers.embeddings import Embedding"
   ]
  },
  {
   "cell_type": "code",
   "execution_count": 6,
   "id": "ef4a0074",
   "metadata": {},
   "outputs": [],
   "source": [
    "text_data=[\"hello my name is Rohan\",\n",
    "           \"Iam persuing my B.Tech @ jain university\",\n",
    "          \"I am very much passionate towards DataScience\",\n",
    "          \"Especially fields like ML,DL,NLP,TEXT PROCESSING,RNN,ANN,CNN etc\",\n",
    "          \"This is practice project of word embedding\",\n",
    "          \"Just studied word embedding theory\",\n",
    "           \"Now i will start implementing word embeddings from scratch hope you like it\"]"
   ]
  },
  {
   "cell_type": "code",
   "execution_count": 7,
   "id": "c37b684f",
   "metadata": {},
   "outputs": [
    {
     "data": {
      "text/plain": [
       "['hello my name is Rohan',\n",
       " 'Iam persuing my B.Tech @ jain university',\n",
       " 'I am very much passionate towards DataScience',\n",
       " 'Especially fields like ML,DL,NLP,TEXT PROCESSING,RNN,ANN,CNN etc',\n",
       " 'This is practice project of word embedding',\n",
       " 'Just studied word embedding theory',\n",
       " 'Now i will start implementing word embeddings from scratch hope you like it']"
      ]
     },
     "execution_count": 7,
     "metadata": {},
     "output_type": "execute_result"
    }
   ],
   "source": [
    "text_data"
   ]
  },
  {
   "cell_type": "code",
   "execution_count": 24,
   "id": "b546f687",
   "metadata": {},
   "outputs": [],
   "source": [
    "labels=array([1,1,0,1,0,1,1])"
   ]
  },
  {
   "cell_type": "code",
   "execution_count": 17,
   "id": "237c3d93",
   "metadata": {},
   "outputs": [],
   "source": [
    "vocab_size=10000"
   ]
  },
  {
   "cell_type": "code",
   "execution_count": 19,
   "id": "fa8bb729",
   "metadata": {},
   "outputs": [
    {
     "name": "stdout",
     "output_type": "stream",
     "text": [
      "[[7546, 6541, 9200, 7089, 9475], [5740, 3505, 6541, 7096, 2492, 9200, 3818], [2439, 7667, 2846, 4813, 2886, 665, 6955], [4599, 2857, 5992, 1396, 3293, 4235, 4466, 202, 9593, 4918, 995, 2695], [1007, 7089, 865, 9516, 7749, 134, 5361], [2298, 1823, 134, 5361, 173], [6690, 2439, 9399, 4018, 3169, 134, 6617, 4434, 750, 6841, 8408, 5992, 845]]\n"
     ]
    }
   ],
   "source": [
    "encoded_data=[one_hot(words,vocab_size)for words in text_data]\n",
    "print(encoded_data)"
   ]
  },
  {
   "cell_type": "code",
   "execution_count": 21,
   "id": "6b3206a8",
   "metadata": {},
   "outputs": [
    {
     "data": {
      "text/plain": [
       "array([[   0,    0,    0,    0,    0,    0, 7546, 6541, 9200, 7089, 9475],\n",
       "       [   0,    0,    0,    0, 5740, 3505, 6541, 7096, 2492, 9200, 3818],\n",
       "       [   0,    0,    0,    0, 2439, 7667, 2846, 4813, 2886,  665, 6955],\n",
       "       [2857, 5992, 1396, 3293, 4235, 4466,  202, 9593, 4918,  995, 2695],\n",
       "       [   0,    0,    0,    0, 1007, 7089,  865, 9516, 7749,  134, 5361],\n",
       "       [   0,    0,    0,    0,    0,    0, 2298, 1823,  134, 5361,  173],\n",
       "       [9399, 4018, 3169,  134, 6617, 4434,  750, 6841, 8408, 5992,  845]])"
      ]
     },
     "execution_count": 21,
     "metadata": {},
     "output_type": "execute_result"
    }
   ],
   "source": [
    "#i have max 11 words so i will pad_Sequence 11 \n",
    "max_len=11\n",
    "Padded_Docs=pad_sequences(encoded_data,maxlen=max_len,padding=\"pre\")\n",
    "Padded_Docs"
   ]
  },
  {
   "cell_type": "code",
   "execution_count": 22,
   "id": "4475fe81",
   "metadata": {},
   "outputs": [],
   "source": [
    "model=Sequential()\n",
    "model.add(Embedding(vocab_size,8,input_length=max_len))\n",
    "model.add(Flatten())\n",
    "model.add(Dense(1,activation=\"sigmoid\"))"
   ]
  },
  {
   "cell_type": "code",
   "execution_count": 26,
   "id": "e8e36701",
   "metadata": {},
   "outputs": [
    {
     "name": "stdout",
     "output_type": "stream",
     "text": [
      "Model: \"sequential\"\n",
      "_________________________________________________________________\n",
      " Layer (type)                Output Shape              Param #   \n",
      "=================================================================\n",
      " embedding (Embedding)       (None, 11, 8)             80000     \n",
      "                                                                 \n",
      " flatten (Flatten)           (None, 88)                0         \n",
      "                                                                 \n",
      " dense (Dense)               (None, 1)                 89        \n",
      "                                                                 \n",
      "=================================================================\n",
      "Total params: 80,089\n",
      "Trainable params: 80,089\n",
      "Non-trainable params: 0\n",
      "_________________________________________________________________\n",
      "None\n",
      "Accuracy: 100.000000\n"
     ]
    }
   ],
   "source": [
    "model.compile(optimizer='adam', loss='binary_crossentropy', metrics=['accuracy'])\n",
    "# summarize the model\n",
    "print(model.summary())\n",
    "# fit the model\n",
    "model.fit(Padded_Docs, labels, epochs=50, verbose=0)\n",
    "# evaluate the model\n",
    "loss, accuracy = model.evaluate(Padded_Docs, labels, verbose=0)\n",
    "print('Accuracy: %f' % (accuracy*100))"
   ]
  },
  {
   "cell_type": "code",
   "execution_count": 29,
   "id": "7349b346",
   "metadata": {},
   "outputs": [
    {
     "data": {
      "text/plain": [
       "(array([[   0,    0,    0,    0,    0,    0, 7546, 6541, 9200, 7089, 9475],\n",
       "        [   0,    0,    0,    0, 5740, 3505, 6541, 7096, 2492, 9200, 3818],\n",
       "        [   0,    0,    0,    0, 2439, 7667, 2846, 4813, 2886,  665, 6955],\n",
       "        [2857, 5992, 1396, 3293, 4235, 4466,  202, 9593, 4918,  995, 2695],\n",
       "        [   0,    0,    0,    0, 1007, 7089,  865, 9516, 7749,  134, 5361],\n",
       "        [   0,    0,    0,    0,    0,    0, 2298, 1823,  134, 5361,  173],\n",
       "        [9399, 4018, 3169,  134, 6617, 4434,  750, 6841, 8408, 5992,  845]]),\n",
       " <keras.engine.sequential.Sequential at 0x1292d51c970>)"
      ]
     },
     "execution_count": 29,
     "metadata": {},
     "output_type": "execute_result"
    }
   ],
   "source": [
    "Padded_Docs"
   ]
  },
  {
   "cell_type": "code",
   "execution_count": 33,
   "id": "09ea01ba",
   "metadata": {},
   "outputs": [
    {
     "data": {
      "text/plain": [
       "[[7546, 6541, 9200, 7089, 9475],\n",
       " [5740, 3505, 6541, 7096, 2492, 9200, 3818],\n",
       " [2439, 7667, 2846, 4813, 2886, 665, 6955],\n",
       " [4599, 2857, 5992, 1396, 3293, 4235, 4466, 202, 9593, 4918, 995, 2695],\n",
       " [1007, 7089, 865, 9516, 7749, 134, 5361],\n",
       " [2298, 1823, 134, 5361, 173],\n",
       " [6690, 2439, 9399, 4018, 3169, 134, 6617, 4434, 750, 6841, 8408, 5992, 845]]"
      ]
     },
     "execution_count": 33,
     "metadata": {},
     "output_type": "execute_result"
    }
   ],
   "source": [
    "encoded_data"
   ]
  }
 ],
 "metadata": {
  "kernelspec": {
   "display_name": "Python 3",
   "language": "python",
   "name": "python3"
  },
  "language_info": {
   "codemirror_mode": {
    "name": "ipython",
    "version": 3
   },
   "file_extension": ".py",
   "mimetype": "text/x-python",
   "name": "python",
   "nbconvert_exporter": "python",
   "pygments_lexer": "ipython3",
   "version": "3.8.8"
  }
 },
 "nbformat": 4,
 "nbformat_minor": 5
}
